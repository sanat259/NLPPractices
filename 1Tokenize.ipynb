{
  "nbformat": 4,
  "nbformat_minor": 0,
  "metadata": {
    "colab": {
      "name": "1Tokenize.ipynb",
      "provenance": [],
      "collapsed_sections": [],
      "authorship_tag": "ABX9TyNihJEBRoab0XTvqufAZ/ei",
      "include_colab_link": true
    },
    "kernelspec": {
      "name": "python3",
      "display_name": "Python 3"
    }
  },
  "cells": [
    {
      "cell_type": "markdown",
      "metadata": {
        "id": "view-in-github",
        "colab_type": "text"
      },
      "source": [
        "<a href=\"https://colab.research.google.com/github/sanat259/NLPPractices/blob/main/1Tokenize.ipynb\" target=\"_parent\"><img src=\"https://colab.research.google.com/assets/colab-badge.svg\" alt=\"Open In Colab\"/></a>"
      ]
    },
    {
      "cell_type": "code",
      "metadata": {
        "colab": {
          "base_uri": "https://localhost:8080/"
        },
        "id": "dwZ58oSbkNou",
        "outputId": "fad65355-65ab-407a-f273-c28674669134"
      },
      "source": [
        "!pip install nltk"
      ],
      "execution_count": 12,
      "outputs": [
        {
          "output_type": "stream",
          "text": [
            "Requirement already satisfied: nltk in /usr/local/lib/python3.7/dist-packages (3.2.5)\n",
            "Requirement already satisfied: six in /usr/local/lib/python3.7/dist-packages (from nltk) (1.15.0)\n"
          ],
          "name": "stdout"
        }
      ]
    },
    {
      "cell_type": "code",
      "metadata": {
        "colab": {
          "base_uri": "https://localhost:8080/"
        },
        "id": "hVt5dQrZlBIc",
        "outputId": "408744fd-12e7-463d-ec16-683f6a8a2cb0"
      },
      "source": [
        "import nltk \r\n",
        "# get the words for all our tasks.\r\n",
        "nltk.download('wordnet')"
      ],
      "execution_count": 13,
      "outputs": [
        {
          "output_type": "stream",
          "text": [
            "[nltk_data] Downloading package wordnet to /root/nltk_data...\n",
            "[nltk_data]   Package wordnet is already up-to-date!\n"
          ],
          "name": "stdout"
        },
        {
          "output_type": "execute_result",
          "data": {
            "text/plain": [
              "True"
            ]
          },
          "metadata": {
            "tags": []
          },
          "execution_count": 13
        }
      ]
    },
    {
      "cell_type": "code",
      "metadata": {
        "id": "G3UrCuAslC28"
      },
      "source": [
        "text = '''Earlier this month, in its annual report on global political rights and liberties, US-based non-profit Freedom House downgraded India from a free democracy to a \"partially free democracy\".\r\n",
        "Last week, Sweden-based V-Dem Institute was harsher in its latest report on democracy. It said India had become an \"electoral autocracy\". And last month, India, described as a \"flawed democracy\", slipped two places to 53rd position in the latest Democracy Index published by The Economist Intelligence Unit.\r\n",
        "The rankings blame Mr Modi and his Hindu nationalist BJP government for the backsliding of democracy. Under Mr Modi's watch, they say, there has been increased pressure on human rights groups, intimidation of journalists and activists, and a spate of attacks, especially against Muslims. This, they add, has led to a deterioration of political and civil liberties in the country.'''\r\n",
        "\r\n",
        "\r\n"
      ],
      "execution_count": 14,
      "outputs": []
    },
    {
      "cell_type": "code",
      "metadata": {
        "colab": {
          "base_uri": "https://localhost:8080/"
        },
        "id": "7EBcGZ7UlgaU",
        "outputId": "45589097-e946-4f44-df5d-c096ab14e7e3"
      },
      "source": [
        "#tokenizing on whitespaces \r\n",
        "\r\n",
        "tokenizer = nltk.tokenize.WhitespaceTokenizer()\r\n",
        "print(tokenizer.tokenize(text))"
      ],
      "execution_count": 15,
      "outputs": [
        {
          "output_type": "stream",
          "text": [
            "['Earlier', 'this', 'month,', 'in', 'its', 'annual', 'report', 'on', 'global', 'political', 'rights', 'and', 'liberties,', 'US-based', 'non-profit', 'Freedom', 'House', 'downgraded', 'India', 'from', 'a', 'free', 'democracy', 'to', 'a', '\"partially', 'free', 'democracy\".', 'Last', 'week,', 'Sweden-based', 'V-Dem', 'Institute', 'was', 'harsher', 'in', 'its', 'latest', 'report', 'on', 'democracy.', 'It', 'said', 'India', 'had', 'become', 'an', '\"electoral', 'autocracy\".', 'And', 'last', 'month,', 'India,', 'described', 'as', 'a', '\"flawed', 'democracy\",', 'slipped', 'two', 'places', 'to', '53rd', 'position', 'in', 'the', 'latest', 'Democracy', 'Index', 'published', 'by', 'The', 'Economist', 'Intelligence', 'Unit.', 'The', 'rankings', 'blame', 'Mr', 'Modi', 'and', 'his', 'Hindu', 'nationalist', 'BJP', 'government', 'for', 'the', 'backsliding', 'of', 'democracy.', 'Under', 'Mr', \"Modi's\", 'watch,', 'they', 'say,', 'there', 'has', 'been', 'increased', 'pressure', 'on', 'human', 'rights', 'groups,', 'intimidation', 'of', 'journalists', 'and', 'activists,', 'and', 'a', 'spate', 'of', 'attacks,', 'especially', 'against', 'Muslims.', 'This,', 'they', 'add,', 'has', 'led', 'to', 'a', 'deterioration', 'of', 'political', 'and', 'civil', 'liberties', 'in', 'the', 'country.']\n"
          ],
          "name": "stdout"
        }
      ]
    },
    {
      "cell_type": "code",
      "metadata": {
        "colab": {
          "base_uri": "https://localhost:8080/"
        },
        "id": "tgwEIljMlq3_",
        "outputId": "a8ad4ce2-317e-4a8c-c5ad-51c72cf4d740"
      },
      "source": [
        "tokenizer = nltk.tokenize.TreebankWordTokenizer()\r\n",
        "print(tokenizer.tokenize(text))"
      ],
      "execution_count": 16,
      "outputs": [
        {
          "output_type": "stream",
          "text": [
            "['Earlier', 'this', 'month', ',', 'in', 'its', 'annual', 'report', 'on', 'global', 'political', 'rights', 'and', 'liberties', ',', 'US-based', 'non-profit', 'Freedom', 'House', 'downgraded', 'India', 'from', 'a', 'free', 'democracy', 'to', 'a', '``', 'partially', 'free', 'democracy', \"''\", '.', 'Last', 'week', ',', 'Sweden-based', 'V-Dem', 'Institute', 'was', 'harsher', 'in', 'its', 'latest', 'report', 'on', 'democracy.', 'It', 'said', 'India', 'had', 'become', 'an', '``', 'electoral', 'autocracy', \"''\", '.', 'And', 'last', 'month', ',', 'India', ',', 'described', 'as', 'a', '``', 'flawed', 'democracy', \"''\", ',', 'slipped', 'two', 'places', 'to', '53rd', 'position', 'in', 'the', 'latest', 'Democracy', 'Index', 'published', 'by', 'The', 'Economist', 'Intelligence', 'Unit.', 'The', 'rankings', 'blame', 'Mr', 'Modi', 'and', 'his', 'Hindu', 'nationalist', 'BJP', 'government', 'for', 'the', 'backsliding', 'of', 'democracy.', 'Under', 'Mr', 'Modi', \"'s\", 'watch', ',', 'they', 'say', ',', 'there', 'has', 'been', 'increased', 'pressure', 'on', 'human', 'rights', 'groups', ',', 'intimidation', 'of', 'journalists', 'and', 'activists', ',', 'and', 'a', 'spate', 'of', 'attacks', ',', 'especially', 'against', 'Muslims.', 'This', ',', 'they', 'add', ',', 'has', 'led', 'to', 'a', 'deterioration', 'of', 'political', 'and', 'civil', 'liberties', 'in', 'the', 'country', '.']\n"
          ],
          "name": "stdout"
        }
      ]
    },
    {
      "cell_type": "code",
      "metadata": {
        "colab": {
          "base_uri": "https://localhost:8080/"
        },
        "id": "TVu-15dZlv52",
        "outputId": "c9a77bbd-c22a-45d1-dcbd-5b08c90688cf"
      },
      "source": [
        "#tokenizing considering word punctuations\r\n",
        "tokenizer = nltk.tokenize.WordPunctTokenizer()\r\n",
        "print(tokenizer.tokenize(text))"
      ],
      "execution_count": 17,
      "outputs": [
        {
          "output_type": "stream",
          "text": [
            "['Earlier', 'this', 'month', ',', 'in', 'its', 'annual', 'report', 'on', 'global', 'political', 'rights', 'and', 'liberties', ',', 'US', '-', 'based', 'non', '-', 'profit', 'Freedom', 'House', 'downgraded', 'India', 'from', 'a', 'free', 'democracy', 'to', 'a', '\"', 'partially', 'free', 'democracy', '\".', 'Last', 'week', ',', 'Sweden', '-', 'based', 'V', '-', 'Dem', 'Institute', 'was', 'harsher', 'in', 'its', 'latest', 'report', 'on', 'democracy', '.', 'It', 'said', 'India', 'had', 'become', 'an', '\"', 'electoral', 'autocracy', '\".', 'And', 'last', 'month', ',', 'India', ',', 'described', 'as', 'a', '\"', 'flawed', 'democracy', '\",', 'slipped', 'two', 'places', 'to', '53rd', 'position', 'in', 'the', 'latest', 'Democracy', 'Index', 'published', 'by', 'The', 'Economist', 'Intelligence', 'Unit', '.', 'The', 'rankings', 'blame', 'Mr', 'Modi', 'and', 'his', 'Hindu', 'nationalist', 'BJP', 'government', 'for', 'the', 'backsliding', 'of', 'democracy', '.', 'Under', 'Mr', 'Modi', \"'\", 's', 'watch', ',', 'they', 'say', ',', 'there', 'has', 'been', 'increased', 'pressure', 'on', 'human', 'rights', 'groups', ',', 'intimidation', 'of', 'journalists', 'and', 'activists', ',', 'and', 'a', 'spate', 'of', 'attacks', ',', 'especially', 'against', 'Muslims', '.', 'This', ',', 'they', 'add', ',', 'has', 'led', 'to', 'a', 'deterioration', 'of', 'political', 'and', 'civil', 'liberties', 'in', 'the', 'country', '.']\n"
          ],
          "name": "stdout"
        }
      ]
    },
    {
      "cell_type": "code",
      "metadata": {
        "id": "ZnfaLx1ql4Cq"
      },
      "source": [
        ""
      ],
      "execution_count": 17,
      "outputs": []
    }
  ]
}